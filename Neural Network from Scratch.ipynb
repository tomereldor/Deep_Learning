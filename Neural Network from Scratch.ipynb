{
 "cells": [
  {
   "cell_type": "markdown",
   "metadata": {},
   "source": [
    "# Simple Neural Network from Scratch\n",
    "### Tomer Eldor\n",
    "#### TT Deep Learning 1 \n",
    "#### Oct 2018"
   ]
  },
  {
   "cell_type": "markdown",
   "metadata": {},
   "source": [
    "## Import Libraries and Data"
   ]
  },
  {
   "cell_type": "code",
   "execution_count": 321,
   "metadata": {
    "scrolled": true
   },
   "outputs": [
    {
     "name": "stderr",
     "output_type": "stream",
     "text": [
      "/Users/tomer/miniconda3/lib/python3.5/site-packages/sklearn/utils/deprecation.py:77: DeprecationWarning: Function fetch_mldata is deprecated; fetch_mldata was deprecated in version 0.20 and will be removed in version 0.22\n",
      "  warnings.warn(msg, category=DeprecationWarning)\n",
      "/Users/tomer/miniconda3/lib/python3.5/site-packages/sklearn/utils/deprecation.py:77: DeprecationWarning: Function mldata_filename is deprecated; mldata_filename was deprecated in version 0.20 and will be removed in version 0.22\n",
      "  warnings.warn(msg, category=DeprecationWarning)\n"
     ]
    }
   ],
   "source": [
    "# Import Libraries and Data\n",
    "import numpy as np\n",
    "from sklearn.datasets import fetch_mldata # for importing the dataset only\n",
    "import matplotlib.pyplot as plt # for plotting cost\n",
    "\n",
    "dataset = fetch_mldata('MNIST original')\n",
    "X_full, y_full = dataset['data'], dataset['target']"
   ]
  },
  {
   "cell_type": "markdown",
   "metadata": {},
   "source": [
    "## Preprocess Data"
   ]
  },
  {
   "cell_type": "code",
   "execution_count": 325,
   "metadata": {},
   "outputs": [],
   "source": [
    "### PREPROCESS DATA ###\n",
    "n_classes = 10\n",
    "\n",
    "# Reduce to a susbsample (while working on the code)\n",
    "SUBSAMPLE_SIZE = 10000 # choose how many samples for now\n",
    "subsample_idx = np.random.choice(X_full.shape[0], SUBSAMPLE_SIZE) # array of indices of subsample\n",
    "X, y = X_raw_full[subsample_idx], y_full[subsample_idx]\n",
    "\n",
    "# Shuffle X and Y for random sampling\n",
    "index_random = np.random.permutation(X.shape[0])\n",
    "X, y = X[index_random], y[index_random]\n",
    "n_train_samples = int(0.75*SUBSAMPLE_SIZE)\n",
    "\n",
    "\n",
    "# Preprocess inputs and outputs\n",
    "def preprocess_bw_image(x):\n",
    "    '''Normalizes pixel values to be between 0 and 1 instead of 0–255'''\n",
    "    return x/255.0\n",
    "X_processed = preprocess_bw_image(X)\n",
    "\n",
    "def onehot(y, n_classes):\n",
    "    '''Reshapes y to a one-hot coding and flips the matrix shape to fit later calculations'''\n",
    "    return np.eye(n_classes)[y.astype('int')] \n",
    "y_onehot = onehot(y, n_classes) # convert y to one-hot encoding, to compare with y_pred (for loss function)\n",
    "\n",
    "# Divide into Training and Test Samples and Flip matrices for later computations\n",
    "X_train, X_test = X_processed[:n_train_samples].T, X_processed[n_train_samples:].T\n",
    "Y_train, Y_test = y_onehot[:n_train_samples].T, y_onehot[n_train_samples:].T"
   ]
  },
  {
   "cell_type": "markdown",
   "metadata": {},
   "source": [
    "# Build Neural Network Class"
   ]
  },
  {
   "cell_type": "code",
   "execution_count": 328,
   "metadata": {
    "scrolled": false
   },
   "outputs": [],
   "source": [
    "# NEURAL NETWORK MLP CLASS\n",
    "\n",
    "class neural_net_mlp:\n",
    "    \n",
    "    def __init__(self, X, Y, n_hidden_nodes = 15, n_classes = 10, learning_rate = 0.5):\n",
    "        # initializing self NN parameters\n",
    "        self.X = X\n",
    "        self.Y = Y\n",
    "        self.n_hidden_nodes = n_hidden_nodes\n",
    "        self.n_classes = n_classes\n",
    "        self.learning_rate = learning_rate\n",
    "        self.n_X_nodes = X.shape[0] # length of features/pixels of each observation\n",
    "        # Initialize Weights and Biases\n",
    "        self.Weights1 = np.random.normal(0, 1, size=(self.n_hidden_nodes, self.n_X_nodes))\n",
    "        self.biases1 = np.random.normal(0, 1, size=(self.n_hidden_nodes, 1))\n",
    "        self.Weights2 = np.random.normal(0, 1, size=(self.n_classes, self.n_hidden_nodes))\n",
    "        self.biases2 = np.random.normal(0, 1, size=(self.n_classes, 1))\n",
    "    \n",
    "    \n",
    "    ## Helper Math Functions\n",
    "    \n",
    "    def loss_function(self, y_true, y_pred):\n",
    "        loss = np.sum(np.multiply(y_true, np.log(y_pred)))\n",
    "        return -(1/y_true.shape[0]) * loss\n",
    "\n",
    "    def sigmoid(self, x):\n",
    "        return (1 / (1 + np.exp(-x)))\n",
    "    \n",
    "    def sigmoid_derivative(self, Z):\n",
    "        sig = sigmoid(Z)\n",
    "        return sig * (1 - sig)\n",
    "\n",
    "    def softmax(self, x):\n",
    "        ''' Softmax activation function. Applies softmax to the input x.\n",
    "        (Its advantage is that it returns a vector of probabilities that sum up to 1)\n",
    "        Arguments:\n",
    "            - x: any vector\n",
    "        Returns:\n",
    "            - softmax(x) - vector of the same shape'''\n",
    "        exps_x = np.exp(x)\n",
    "        return exps_x / np.sum(exps_x, axis=0) \n",
    "\n",
    "    \n",
    "    ## Nerual Network functions\n",
    "    \n",
    "    def fc_layer(self, inputs, weights, biases):\n",
    "        '''\n",
    "        Fully Connected Layer of MLP/NN: y = wx + b (weights*input + biases), \n",
    "        that fed into the activation function, so that y = activation(wx+b)\n",
    "        Arguments:\n",
    "             - inputs: input data for the layer - either the initial input for the net\n",
    "                        or the ouput of the previous (lower) layer (np array of floats)\n",
    "             - weights: set of weights for that layer's connections (np array of floats)\n",
    "             - biases: set of biases for that layer's connections (np array of floats)\n",
    "        Returns:\n",
    "            Z: the result of the matrix multiplication of weights with previous layer's activations\n",
    "        '''\n",
    "        return np.matmul(weights, inputs) + biases\n",
    "\n",
    "    def feed_forward(self, X):\n",
    "        '''\n",
    "        Constructs the NNet with 1 hidden layer and 1 output layer\n",
    "        Feeds forward from the initial (preprocessed) input through those layers, generates prediction\n",
    "        Arguments:\n",
    "            - X: the input data for the network (numpy array of floats). size: (n_pixles (or features), n_observations)\n",
    "            - Weights1 - initial values for weights of the first layer. np array of size: (n_hidden_nodes, n_initial_input_nodes)\n",
    "            - biases1 - initial values for biases. vector of length: n_hidden_nodes\n",
    "            - Weights2 - initial values for weights of the first layer. np array of size: (n_output_nodes, n_hidden_nodes)\n",
    "            - biases2 - initial values for biases. vector of length: n_output_nodes\n",
    "        Returns:\n",
    "            - y_pred - prediction probability for each observation for each class\n",
    "            - Z1: result of the fully connecter layer 1 (y=wx+b, before activation), needed for later gradient/derivatives\n",
    "            - A1: result of Z1 after the activation function, needed for backpropagation later\n",
    "        '''\n",
    "        # FEED-FORWARD \n",
    "        # layer 0 - input layer\n",
    "        self.A0 = self.sigmoid(X)\n",
    "        # layer 1 - hidden layer\n",
    "        Z1 = self.fc_layer(self.A0, self.Weights1, self.biases1)\n",
    "        A1 = self.sigmoid(Z1)\n",
    "        # layer 2 - output layer\n",
    "        Z2 = self.fc_layer(A1, self.Weights2, self.biases2)\n",
    "        # for the last layer, we'll yse softmax as the activation function \n",
    "        # to output probabilities summing up to 1 (for above 2 classes)\n",
    "        y_pred = self.softmax(Z2)\n",
    "        return y_pred, Z1, A1\n",
    "\n",
    "    def gradients_WB(self, dZ, x):\n",
    "        ''' \n",
    "        Calculates the derivatives with respect to the weights and biases.\n",
    "        See https://www.deeplearningbook.org/contents/mlp.html, page 209\n",
    "        Arguments:\n",
    "            dZ: derivative with respect to Z of that layer (depends on the activation)\n",
    "            X: training examples used\n",
    "            n_train_samples = number of training \n",
    "        Returns:\n",
    "            Gradient for weights, gradient for biases\n",
    "        '''\n",
    "        n_obs = self.X.shape[0]\n",
    "        dWeights = (1.0/n_obs) * np.matmul(dZ, x.T)\n",
    "        dBiases = (1.0/n_obs) * np.sum(dZ, axis=1, keepdims=True)\n",
    "        return dWeights, dBiases\n",
    "\n",
    "\n",
    "    ## TRAIN THE NETWORK \n",
    "    \n",
    "    def train(self, n_epochs = 100, n_prints = 10, showprint = True, showplot = True):\n",
    "        # initialize and save training parameters info\n",
    "        self.costs = []\n",
    "        self.n_epochs = n_epochs \n",
    "        epoch_ids = []\n",
    "        # TRAIN\n",
    "        print(\"Training MLP Neural Network with 1 hidden layer of {} neurons for {} epochs\".format(self.n_hidden_nodes, self.n_epochs))\n",
    "        for i in range(1, n_epochs+1):\n",
    "            # FEED-FORWARD \n",
    "            y_pred, Z1, A1 = self.feed_forward(self.X)\n",
    "            # calculate cost using the loss function\n",
    "            cost = self.loss_function(self.Y, y_pred)\n",
    "\n",
    "            # BACKPROPAGATION - gradient calculations\n",
    "            # derivatives of Layer 2: \n",
    "            dZ2 = y_pred - self.Y # simple error\n",
    "            dWeights2, dBiases2 = self.gradients_WB(dZ2, A1)\n",
    "            # derivatives of Layer 1\n",
    "            dA1 = np.matmul(self.Weights2.T, dZ2) # derivative of A1 \n",
    "            dZ1 = dA1 * self.sigmoid_derivative(Z1) # derivative of Z1: derivative of A1 and sigmoid derivative of Z1\n",
    "            dWeights1, dBiases1 = self.gradients_WB(dZ1, self.X)\n",
    "\n",
    "            # Update the weights and biases\n",
    "            self.Weights2 -= learning_rate * dWeights2\n",
    "            self.biases2 -= learning_rate * dBiases2\n",
    "            self.Weights1 -= learning_rate * dWeights1\n",
    "            self.biases1 -= learning_rate * dBiases1\n",
    "\n",
    "            # (print) and save cost results\n",
    "            if (i % int(self.n_epochs / n_prints) == 0) or i == n_epochs:\n",
    "                if showprint: print(\"Cost at Epoch {}: \\t {}\".format(i, cost))\n",
    "                self.costs.append(cost)\n",
    "                epoch_ids.append(i)\n",
    "        \n",
    "        # Summarize and plot costs\n",
    "        if showplot:\n",
    "            plt.plot(epoch_ids, self.costs)\n",
    "            plt.show()"
   ]
  },
  {
   "cell_type": "markdown",
   "metadata": {},
   "source": [
    "# Training the Network"
   ]
  },
  {
   "cell_type": "code",
   "execution_count": 368,
   "metadata": {
    "scrolled": false
   },
   "outputs": [
    {
     "name": "stdout",
     "output_type": "stream",
     "text": [
      "Training MLP Neural Network with 1 hidden layer of 15 neurons for 1000 epochs\n",
      "Cost at Epoch 100: \t 2171.3836245515195\n",
      "Cost at Epoch 200: \t 1824.5730762943122\n",
      "Cost at Epoch 300: \t 1535.1087701677118\n",
      "Cost at Epoch 400: \t 1488.43073480976\n",
      "Cost at Epoch 500: \t 1476.4454198550293\n",
      "Cost at Epoch 600: \t 1488.8500689823754\n",
      "Cost at Epoch 700: \t 1460.8556081100205\n",
      "Cost at Epoch 800: \t 1454.0474170593563\n",
      "Cost at Epoch 900: \t 1399.495139335694\n",
      "Cost at Epoch 1000: \t 1229.3682897101717\n"
     ]
    },
    {
     "data": {
      "image/png": "[encoded data removed]",
      "text/plain": [
       "<Figure size 432x288 with 1 Axes>"
      ]
     },
     "metadata": {
      "needs_background": "light"
     },
     "output_type": "display_data"
    }
   ],
   "source": [
    "# Initialize a Neural Network (MLP) object\n",
    "nn = neural_net_mlp(X_train, Y_train, n_hidden_nodes = 15, n_classes = 10, learning_rate = 0.5)\n",
    "nn.train(n_epochs = 1000, n_prints = 10, showprint = 1, showplot = 1)"
   ]
  },
  {
   "cell_type": "markdown",
   "metadata": {},
   "source": [
    "# Testing the Model"
   ]
  },
  {
   "cell_type": "code",
   "execution_count": 349,
   "metadata": {},
   "outputs": [
    {
     "name": "stdout",
     "output_type": "stream",
     "text": [
      "Loss of test set:  203.1239662326074\n"
     ]
    }
   ],
   "source": [
    "y_pred, _Z1, _A1 = nn.feed_forward(X_test)\n",
    "cost = nn.loss_function(Y_test, y_pred)\n",
    "print(\"Loss of test set: \", cost)"
   ]
  },
  {
   "cell_type": "code",
   "execution_count": 355,
   "metadata": {},
   "outputs": [
    {
     "data": {
      "text/plain": [
       "(10, 2500)"
      ]
     },
     "execution_count": 355,
     "metadata": {},
     "output_type": "execute_result"
    }
   ],
   "source": [
    "y_pred.shape"
   ]
  },
  {
   "cell_type": "code",
   "execution_count": 362,
   "metadata": {},
   "outputs": [
    {
     "name": "stdout",
     "output_type": "stream",
     "text": [
      "79th Predicted Value: 8\n"
     ]
    },
    {
     "data": {
      "image/png": "[encoded data removed]",
      "text/plain": [
       "<Figure size 432x288 with 1 Axes>"
      ]
     },
     "metadata": {
      "needs_background": "light"
     },
     "output_type": "display_data"
    },
    {
     "name": "stdout",
     "output_type": "stream",
     "text": [
      "669th Predicted Value: 1\n"
     ]
    },
    {
     "data": {
      "image/png": "[encoded data removed]",
      "text/plain": [
       "<Figure size 432x288 with 1 Axes>"
      ]
     },
     "metadata": {
      "needs_background": "light"
     },
     "output_type": "display_data"
    },
    {
     "name": "stdout",
     "output_type": "stream",
     "text": [
      "2314th Predicted Value: 8\n"
     ]
    },
    {
     "data": {
      "image/png": "[encoded data removed]",
      "text/plain": [
       "<Figure size 432x288 with 1 Axes>"
      ]
     },
     "metadata": {
      "needs_background": "light"
     },
     "output_type": "display_data"
    },
    {
     "name": "stdout",
     "output_type": "stream",
     "text": [
      "938th Predicted Value: 0\n"
     ]
    },
    {
     "data": {
      "image/png": "[encoded data removed]",
      "text/plain": [
       "<Figure size 432x288 with 1 Axes>"
      ]
     },
     "metadata": {
      "needs_background": "light"
     },
     "output_type": "display_data"
    },
    {
     "name": "stdout",
     "output_type": "stream",
     "text": [
      "1414th Predicted Value: 5\n"
     ]
    },
    {
     "data": {
      "image/png": "[encoded data removed]",
      "text/plain": [
       "<Figure size 432x288 with 1 Axes>"
      ]
     },
     "metadata": {
      "needs_background": "light"
     },
     "output_type": "display_data"
    }
   ],
   "source": [
    "# Show results\n",
    "def print_image_and_prediction(i, X, y_pred):\n",
    "    predicted_result = np.argmax(y_pred[:,i])\n",
    "    print(\"{}th Predicted Value: {}\".format(i, predicted_result))\n",
    "    example = X[:,i].reshape(28,28)\n",
    "    plt.imshow(example, cmap = plt.cm.gray)\n",
    "    plt.axis(\"off\")\n",
    "    plt.show()\n",
    "\n",
    "\n",
    "for i in np.random.randint(X_test.shape[1], size = 5):\n",
    "    print_image_and_prediction(i, X_test, y_pred)"
   ]
  },
  {
   "cell_type": "markdown",
   "metadata": {},
   "source": [
    "# Conclusion\n",
    "\n",
    "The model seems to have trained successfully, as seen by the cost being reduced as expected (steep decrease initially, with later a less steep slope). Additionally, the cost of the same model for the test set was similar or lower than the final cost of the training set, so we have not overfitted. "
   ]
  },
  {
   "cell_type": "code",
   "execution_count": null,
   "metadata": {},
   "outputs": [],
   "source": []
  }
 ],
 "metadata": {
  "kernelspec": {
   "display_name": "Python 3",
   "language": "python",
   "name": "python3"
  },
  "language_info": {
   "codemirror_mode": {
    "name": "ipython",
    "version": 3
   },
   "file_extension": ".py",
   "mimetype": "text/x-python",
   "name": "python",
   "nbconvert_exporter": "python",
   "pygments_lexer": "ipython3",
   "version": "3.5.5"
  }
 },
 "nbformat": 4,
 "nbformat_minor": 2
}
