{
 "cells": [
  {
   "cell_type": "markdown",
   "metadata": {},
   "source": [
    "# Simple Neural Network from Scratch\n",
    "### Tomer Eldor\n",
    "#### TT Deep Learning 1 \n",
    "#### Oct 2018"
   ]
  },
  {
   "cell_type": "markdown",
   "metadata": {},
   "source": [
    "## Import Libraries and Data"
   ]
  },
  {
   "cell_type": "code",
   "execution_count": 7,
   "metadata": {
    "scrolled": true
   },
   "outputs": [
    {
     "name": "stderr",
     "output_type": "stream",
     "text": [
      "/Users/tomer/miniconda3/lib/python3.5/site-packages/sklearn/utils/deprecation.py:77: DeprecationWarning: Function fetch_mldata is deprecated; fetch_mldata was deprecated in version 0.20 and will be removed in version 0.22\n",
      "  warnings.warn(msg, category=DeprecationWarning)\n",
      "/Users/tomer/miniconda3/lib/python3.5/site-packages/sklearn/utils/deprecation.py:77: DeprecationWarning: Function mldata_filename is deprecated; mldata_filename was deprecated in version 0.20 and will be removed in version 0.22\n",
      "  warnings.warn(msg, category=DeprecationWarning)\n"
     ]
    }
   ],
   "source": [
    "# Import Libraries and Data\n",
    "import numpy as np\n",
    "from sklearn.datasets import fetch_mldata # for importing the dataset only\n",
    "import matplotlib.pyplot as plt\n",
    "%matplotlib inline\n",
    "\n",
    "dataset = fetch_mldata('MNIST original')\n",
    "X_full, y_full = dataset['data'], dataset['target']"
   ]
  },
  {
   "cell_type": "markdown",
   "metadata": {},
   "source": [
    "## Preprocess Data"
   ]
  },
  {
   "cell_type": "code",
   "execution_count": 58,
   "metadata": {},
   "outputs": [],
   "source": [
    "### PREPROCESS DATA ###\n",
    "n_classes = 10\n",
    "\n",
    "# Reduce to a susbsample (while working on the code)\n",
    "SUBSAMPLE_SIZE = 50000 # choose how many samples for now\n",
    "subsample_idx = np.random.choice(X_full.shape[0], SUBSAMPLE_SIZE) # array of indices of subsample\n",
    "X, y = X_full[subsample_idx], y_full[subsample_idx]\n",
    "\n",
    "# Shuffle X and Y for random sampling\n",
    "index_random = np.random.permutation(X.shape[0])\n",
    "X, y = X[index_random], y[index_random]\n",
    "n_train_samples = int(0.75*SUBSAMPLE_SIZE)\n",
    "\n",
    "\n",
    "# Preprocess inputs and outputs\n",
    "def preprocess_bw_image(x):\n",
    "    '''Normalizes pixel values to be between 0 and 1 instead of 0–255'''\n",
    "    return x/255.0\n",
    "X_processed = preprocess_bw_image(X)\n",
    "\n",
    "def onehot(y, n_classes):\n",
    "    '''Reshapes y to a one-hot coding and flips the matrix shape to fit later calculations'''\n",
    "    return np.eye(n_classes)[y.astype('int')] \n",
    "y_onehot = onehot(y, n_classes) # convert y to one-hot encoding, to compare with y_pred (for loss function)\n",
    "\n",
    "# Divide into Training and Test Samples and Flip matrices for later computations\n",
    "X_train, X_test = X_processed[:n_train_samples].T, X_processed[n_train_samples:].T\n",
    "Y_train, Y_test = y_onehot[:n_train_samples].T, y_onehot[n_train_samples:].T"
   ]
  },
  {
   "cell_type": "markdown",
   "metadata": {},
   "source": [
    "# Build Neural Network Class"
   ]
  },
  {
   "cell_type": "code",
   "execution_count": 62,
   "metadata": {
    "scrolled": false
   },
   "outputs": [],
   "source": [
    "# NEURAL NETWORK MLP CLASS\n",
    "\n",
    "class neural_net_mlp:\n",
    "    \n",
    "    def __init__(self, X, Y, n_hidden_nodes = 15, n_classes = 10, learning_rate = 0.5):\n",
    "        ''' \n",
    "        Initializaing MLP Neural Network with one input layer, one hidden layer, and output layer.\n",
    "        Arguments:\n",
    "            X - inputs (training). shape: (N_features, N_samples) (*features = pixels here)\n",
    "            Y - output labels of X_training, one-hot encoded. shape (N_classes, N_samples)\n",
    "            n_hidden_nodes - number of neurons in the hidden layer \n",
    "            n_classes - number of possible classes for Y\n",
    "            learning_rate - rate at which the network will train (in gradient descent)\n",
    "        '''\n",
    "        # initializing self NN parameters\n",
    "        self.X = X\n",
    "        self.Y = Y\n",
    "        self.n_hidden_nodes = n_hidden_nodes\n",
    "        self.n_classes = n_classes\n",
    "        self.learning_rate = learning_rate\n",
    "        self.n_X_nodes = X.shape[0] # length of features/pixels of each observation\n",
    "        # Initialize Weights and Biases\n",
    "        self.Weights1 = np.random.normal(0, 1, size=(self.n_hidden_nodes, self.n_X_nodes))\n",
    "        self.biases1 = np.random.normal(0, 1, size=(self.n_hidden_nodes, 1))\n",
    "        self.Weights2 = np.random.normal(0, 1, size=(self.n_classes, self.n_hidden_nodes))\n",
    "        self.biases2 = np.random.normal(0, 1, size=(self.n_classes, 1))\n",
    "    \n",
    "    \n",
    "    ## Helper Math Functions\n",
    "    \n",
    "    def loss_function(self, y_true, y_pred):\n",
    "        ''' \n",
    "        Using multiclass cross entropy as a loss function\n",
    "        (since we have multiclass output)\n",
    "        Input: y_true, y_pred - vectors of same shape\n",
    "        Returns: result of multiclass cross entropy between them (float)\n",
    "        '''\n",
    "        loss = np.sum(np.multiply(y_true, np.log(y_pred)))\n",
    "        return -(1/y_true.shape[0]) * loss\n",
    "\n",
    "    def sigmoid(self, x):\n",
    "        ''' simple sigmoid function as our activation function of Layer 0 and 1'''\n",
    "        return (1 / (1 + np.exp(-x)))\n",
    "    \n",
    "    def sigmoid_derivative(self, Z):\n",
    "        ''' derivative of the sigmoid function for backpropagation'''\n",
    "        sig = self.sigmoid(Z)\n",
    "        return sig * (1 - sig)\n",
    "\n",
    "    def softmax(self, x):\n",
    "        ''' Softmax activation function. Applies softmax to the input x.\n",
    "        (Its advantage is that it returns a vector of probabilities that sum up to 1)\n",
    "        Arguments:\n",
    "            - x: any vector\n",
    "        Returns:\n",
    "            - softmax(x) - vector of the same shape'''\n",
    "        exps_x = np.exp(x)\n",
    "        return exps_x / np.sum(exps_x, axis=0) \n",
    "\n",
    "    \n",
    "    ## Nerual Network functions\n",
    "    \n",
    "    def fc_layer(self, inputs, weights, biases):\n",
    "        '''\n",
    "        Fully Connected Layer of MLP/NN: y = wx + b (weights*input + biases), \n",
    "        that fed into the activation function, so that y = activation(wx+b)\n",
    "        Arguments:\n",
    "             - inputs: input data for the layer - either the initial input for the net\n",
    "                        or the ouput of the previous (lower) layer (np array of floats)\n",
    "             - weights: set of weights for that layer's connections (np array of floats)\n",
    "             - biases: set of biases for that layer's connections (np array of floats)\n",
    "        Returns:\n",
    "            Z: the result of the matrix multiplication of weights with previous layer's activations\n",
    "        '''\n",
    "        return np.matmul(weights, inputs) + biases\n",
    "\n",
    "    def feed_forward(self, X):\n",
    "        '''\n",
    "        Constructs the NNet with 1 hidden layer and 1 output layer\n",
    "        Feeds forward from the initial (preprocessed) input through those layers, generates prediction\n",
    "        Arguments:\n",
    "            - X: the input data for the network (numpy array of floats). size: (n_pixles (or features), n_observations)\n",
    "            - Weights1 - initial values for weights of the first layer. np array of size: (n_hidden_nodes, n_initial_input_nodes)\n",
    "            - biases1 - initial values for biases. vector of length: n_hidden_nodes\n",
    "            - Weights2 - initial values for weights of the first layer. np array of size: (n_output_nodes, n_hidden_nodes)\n",
    "            - biases2 - initial values for biases. vector of length: n_output_nodes\n",
    "        Returns:\n",
    "            - y_pred - prediction probability for each observation for each class\n",
    "            - Z1: result of the fully connecter layer 1 (y=wx+b, before activation), needed for later gradient/derivatives\n",
    "            - A1: result of Z1 after the activation function, needed for backpropagation later\n",
    "        '''\n",
    "        # FEED-FORWARD \n",
    "        # layer 0 - input layer\n",
    "        self.A0 = X # allowing flexible input for prediction\n",
    "        # layer 1 - hidden layer\n",
    "        Z1 = self.fc_layer(self.A0, self.Weights1, self.biases1)\n",
    "        A1 = self.sigmoid(Z1)\n",
    "        # layer 2 - output layer\n",
    "        Z2 = self.fc_layer(A1, self.Weights2, self.biases2)\n",
    "        # for the last layer, we'll yse softmax as the activation function \n",
    "        # to output probabilities summing up to 1 (for above 2 classes)\n",
    "        y_pred = self.softmax(Z2)\n",
    "        return y_pred, Z1, A1 # Z1 & A1 needed for backpropagation\n",
    "\n",
    "    def gradients_WB(self, dZ, x):\n",
    "        ''' \n",
    "        Calculates the derivatives with respect to the weights and biases.\n",
    "        See https://www.deeplearningbook.org/contents/mlp.html, page 209\n",
    "        Arguments:\n",
    "            dZ: derivative with respect to Z of that layer (depends on the activation)\n",
    "            X: training examples used\n",
    "            n_train_samples = number of training \n",
    "        Returns:\n",
    "            Gradient for weights, gradient for biases\n",
    "        '''\n",
    "        n_obs = self.X.shape[0]\n",
    "        dWeights = (1.0/n_obs) * np.matmul(dZ, x.T)\n",
    "        dBiases = (1.0/n_obs) * np.sum(dZ, axis=1, keepdims=True)\n",
    "        return dWeights, dBiases\n",
    "\n",
    "\n",
    "    ## TRAIN THE NETWORK \n",
    "    \n",
    "    def train(self, n_epochs = 100, n_prints = 10, showprint = True, showplot = True):\n",
    "        ''' Train the NNet\n",
    "        Arguments:\n",
    "            - n_epochs: number of repetitions for the training process (int)\n",
    "            - n_prints: number of epochs to save and plot or print their cost function (int)\n",
    "            - showprint: print cost function lines or not (Boolean)\n",
    "            - showplot: display plot of loss function over time or not (Boolean)\n",
    "        Returns:\n",
    "            final Cost value from loss function (float)\n",
    "            Trains the network internally (self.weights and biases), outputs prints and plots if desired\n",
    "        '''\n",
    "        # initialize and save training parameters info\n",
    "        self.costs = []\n",
    "        self.n_epochs = n_epochs \n",
    "        epoch_ids = []\n",
    "        # TRAIN\n",
    "        if showprint: print(\"Training MLP Neural Network with 1 hidden layer of {} neurons for {} epochs\".format(self.n_hidden_nodes, self.n_epochs))\n",
    "        for i in range(1, n_epochs+1):\n",
    "            # FEED-FORWARD \n",
    "            y_pred, Z1, A1 = self.feed_forward(self.X)\n",
    "            # calculate cost using the loss function\n",
    "            cost = self.loss_function(self.Y, y_pred)\n",
    "\n",
    "            # BACKPROPAGATION - gradient calculations\n",
    "            # derivatives of Layer 2: \n",
    "            dZ2 = y_pred - self.Y # simple error\n",
    "            dWeights2, dBiases2 = self.gradients_WB(dZ2, A1)\n",
    "            # derivatives of Layer 1\n",
    "            dA1 = np.matmul(self.Weights2.T, dZ2) # derivative of A1 \n",
    "            dZ1 = dA1 * self.sigmoid_derivative(Z1) # derivative of Z1: derivative of A1 and sigmoid derivative of Z1\n",
    "            dWeights1, dBiases1 = self.gradients_WB(dZ1, self.X)\n",
    "\n",
    "            # Update the weights and biases\n",
    "            self.Weights2 -= self.learning_rate * dWeights2\n",
    "            self.biases2 -=  self.learning_rate * dBiases2\n",
    "            self.Weights1 -= self.learning_rate * dWeights1\n",
    "            self.biases1 -=  self.learning_rate * dBiases1\n",
    "\n",
    "            # (print) and save cost results\n",
    "            if i == 1 or (i % int(self.n_epochs / n_prints) == 0) or i == n_epochs:\n",
    "                if showprint: print(\"Cost at Epoch {}: \\t {}\".format(i, cost))\n",
    "                self.costs.append(cost)\n",
    "                epoch_ids.append(i)\n",
    "        \n",
    "        # Summarize and plot costs\n",
    "        if showplot:\n",
    "            plt.plot(epoch_ids, self.costs)\n",
    "            plt.xlabel('Epochs')\n",
    "            plt.ylabel('Loss (Multiclass Cross-Entropy)')\n",
    "            plt.title('NN Loss function during training epochs')\n",
    "            plt.show()\n",
    "        \n",
    "        return cost"
   ]
  },
  {
   "cell_type": "markdown",
   "metadata": {},
   "source": [
    "# Training the Network"
   ]
  },
  {
   "cell_type": "code",
   "execution_count": 18,
   "metadata": {},
   "outputs": [
    {
     "name": "stdout",
     "output_type": "stream",
     "text": [
      "Training MLP Neural Network with 1 hidden layer of 15 neurons for 5000 epochs\n",
      "Cost at Epoch 1: \t 3599.0708866008354\n",
      "Cost at Epoch 250: \t 245.81861380031089\n",
      "Cost at Epoch 500: \t 168.18777157251407\n",
      "Cost at Epoch 750: \t 131.2072820412647\n",
      "Cost at Epoch 1000: \t 108.71133635316615\n",
      "Cost at Epoch 1250: \t 93.41058010598938\n",
      "Cost at Epoch 1500: \t 81.79485595174926\n",
      "Cost at Epoch 1750: \t 72.72274793832061\n",
      "Cost at Epoch 2000: \t 65.5158967334727\n",
      "Cost at Epoch 2250: \t 59.46187949431132\n",
      "Cost at Epoch 2500: \t 54.74235842770605\n",
      "Cost at Epoch 2750: \t 50.46233552636417\n",
      "Cost at Epoch 3000: \t 46.75588986241054\n",
      "Cost at Epoch 3250: \t 44.08113507929413\n",
      "Cost at Epoch 3500: \t 41.619689589631825\n",
      "Cost at Epoch 3750: \t 39.45992866362695\n",
      "Cost at Epoch 4000: \t 37.378319040566105\n",
      "Cost at Epoch 4250: \t 35.191362257890965\n",
      "Cost at Epoch 4500: \t 33.76120534615713\n",
      "Cost at Epoch 4750: \t 32.32027328313764\n",
      "Cost at Epoch 5000: \t 31.048684652495055\n"
     ]
    },
    {
     "data": {
      "image/png": "[encoded data removed]",
      "text/plain": [
       "<Figure size 432x288 with 1 Axes>"
      ]
     },
     "metadata": {
      "needs_background": "light"
     },
     "output_type": "display_data"
    }
   ],
   "source": [
    "# Initialize a Neural Network (MLP) object\n",
    "nn = neural_net_mlp(X_train, Y_train, n_hidden_nodes = 15, n_classes = 10, learning_rate = 0.5)\n",
    "nn.train(n_epochs = 5000, n_prints = 20, showprint = 1, showplot = 1)"
   ]
  },
  {
   "cell_type": "markdown",
   "metadata": {},
   "source": [
    "# Testing the Model"
   ]
  },
  {
   "cell_type": "code",
   "execution_count": 57,
   "metadata": {},
   "outputs": [
    {
     "name": "stdout",
     "output_type": "stream",
     "text": [
      "Loss of test set:  123.02190720993393\n"
     ]
    }
   ],
   "source": [
    "y_pred, _Z1, _A1 = nn.feed_forward(X_test)\n",
    "cost = nn.loss_function(Y_test, y_pred)\n",
    "print(\"Loss of test set: \", cost)"
   ]
  },
  {
   "cell_type": "code",
   "execution_count": 56,
   "metadata": {},
   "outputs": [
    {
     "data": {
      "image/png": "[encoded data removed]",
      "text/plain": [
       "<Figure size 864x576 with 8 Axes>"
      ]
     },
     "metadata": {
      "needs_background": "light"
     },
     "output_type": "display_data"
    }
   ],
   "source": [
    "# Show results with visual predictions\n",
    "def print_image_and_prediction(i, samples, X_test, y_pred):\n",
    "    example = X_test[:, samples[i]].reshape(28,28)\n",
    "    plt.imshow(example, cmap = plt.cm.gray)\n",
    "    predicted_result = np.argmax(y_pred[:,samples[i]])\n",
    "    plt.title(\"Predicted: {}\".format(predicted_result))\n",
    "    plt.axis(\"off\")\n",
    "    \n",
    "fig = plt.figure(figsize=(12,8))\n",
    "fig.subplots_adjust(hspace=0.2, wspace=0.2)\n",
    "samples = np.random.randint(X_test.shape[1], size = 10) #draw some random samples to plot\n",
    "for i in range(1, 9):\n",
    "    ax = fig.add_subplot(2, 4, i) # 2 rows with 4 images (cols)\n",
    "    print_image_and_prediction(i, samples, X_test, y_pred)"
   ]
  },
  {
   "cell_type": "markdown",
   "metadata": {},
   "source": [
    "# Conclusion\n",
    "\n",
    "The model seems to have trained successfully, as seen by the cost being reduced as expected (steep decrease initially, with later a less steep slope). \n",
    "The cost of the same model for the test set was higher than the final cost of the training set, so we might have overfitted. \n",
    "I have tried to increase the subsample size from 10K to 50K, train it again for less epochs searching for a balance cost between train and test samples, varying the number of nodes in the hidden layer and the learning rate.\n",
    "Finding the best combination of those would be ideal and can be done using a grid search through many values of each. Below is a smaller test searching through multiple values of each."
   ]
  },
  {
   "cell_type": "markdown",
   "metadata": {},
   "source": [
    "## Further Calibrating\n",
    "*This I continued on my own to explore better parameters *"
   ]
  },
  {
   "cell_type": "code",
   "execution_count": 63,
   "metadata": {
    "scrolled": true
   },
   "outputs": [
    {
     "name": "stdout",
     "output_type": "stream",
     "text": [
      "Training an MLP with 15 hidden nodes and learning rate of 0.1, for 500 epochs\n",
      "Training loss: 1139.3299834088782, Test loss: 431.3432909762559 - for MLP with 15 hidden nodes, learning rate = 0.1, trained for 500 epochs\n",
      "Training an MLP with 15 hidden nodes and learning rate of 0.1, for 1000 epochs\n",
      "Training loss: 962.4741105713491, Test loss: 387.89927148871357 - for MLP with 15 hidden nodes, learning rate = 0.1, trained for 1000 epochs\n",
      "Training an MLP with 15 hidden nodes and learning rate of 0.1, for 5000 epochs\n",
      "Training loss: 464.48229967370656, Test loss: 323.447861528466 - for MLP with 15 hidden nodes, learning rate = 0.1, trained for 5000 epochs\n",
      "Training an MLP with 15 hidden nodes and learning rate of 1, for 500 epochs\n",
      "Training loss: 23589.764502253624, Test loss: 6102.375646366163 - for MLP with 15 hidden nodes, learning rate = 1, trained for 500 epochs\n",
      "Training an MLP with 15 hidden nodes and learning rate of 1, for 1000 epochs\n",
      "Training loss: 25873.04401913751, Test loss: 7820.972817084575 - for MLP with 15 hidden nodes, learning rate = 1, trained for 1000 epochs\n",
      "Training an MLP with 15 hidden nodes and learning rate of 1, for 5000 epochs\n",
      "Training loss: 232222.39761898282, Test loss: 68933.56709475904 - for MLP with 15 hidden nodes, learning rate = 1, trained for 5000 epochs\n",
      "Training an MLP with 15 hidden nodes and learning rate of 10, for 500 epochs\n"
     ]
    },
    {
     "name": "stderr",
     "output_type": "stream",
     "text": [
      "/Users/tomer/miniconda3/lib/python3.5/site-packages/ipykernel_launcher.py:38: RuntimeWarning: divide by zero encountered in log\n",
      "/Users/tomer/miniconda3/lib/python3.5/site-packages/ipykernel_launcher.py:38: RuntimeWarning: invalid value encountered in multiply\n",
      "/Users/tomer/miniconda3/lib/python3.5/site-packages/ipykernel_launcher.py:58: RuntimeWarning: invalid value encountered in true_divide\n"
     ]
    },
    {
     "name": "stdout",
     "output_type": "stream",
     "text": [
      "Training loss: nan, Test loss: nan - for MLP with 15 hidden nodes, learning rate = 10, trained for 500 epochs\n",
      "Training an MLP with 15 hidden nodes and learning rate of 10, for 1000 epochs\n",
      "Training loss: nan, Test loss: nan - for MLP with 15 hidden nodes, learning rate = 10, trained for 1000 epochs\n",
      "Training an MLP with 15 hidden nodes and learning rate of 10, for 5000 epochs\n",
      "Training loss: nan, Test loss: nan - for MLP with 15 hidden nodes, learning rate = 10, trained for 5000 epochs\n",
      "Training an MLP with 64 hidden nodes and learning rate of 0.1, for 500 epochs\n",
      "Training loss: 737.2620313710697, Test loss: 315.6828725082976 - for MLP with 64 hidden nodes, learning rate = 0.1, trained for 500 epochs\n",
      "Training an MLP with 64 hidden nodes and learning rate of 0.1, for 1000 epochs\n",
      "Training loss: 488.99439009616566, Test loss: 271.09940639612523 - for MLP with 64 hidden nodes, learning rate = 0.1, trained for 1000 epochs\n",
      "Training an MLP with 64 hidden nodes and learning rate of 0.1, for 5000 epochs\n"
     ]
    },
    {
     "ename": "KeyboardInterrupt",
     "evalue": "",
     "output_type": "error",
     "traceback": [
      "\u001b[0;31m---------------------------------------------------------------------------\u001b[0m",
      "\u001b[0;31mKeyboardInterrupt\u001b[0m                         Traceback (most recent call last)",
      "\u001b[0;32m<ipython-input-63-0cad83023575>\u001b[0m in \u001b[0;36m<module>\u001b[0;34m\u001b[0m\n\u001b[1;32m      5\u001b[0m             \u001b[0mprint\u001b[0m\u001b[0;34m(\u001b[0m\u001b[0;34m\"Training an MLP with {} hidden nodes and learning rate of {}, for {} epochs\"\u001b[0m\u001b[0;34m.\u001b[0m\u001b[0mformat\u001b[0m\u001b[0;34m(\u001b[0m\u001b[0mhiddens\u001b[0m\u001b[0;34m,\u001b[0m \u001b[0malpha\u001b[0m\u001b[0;34m,\u001b[0m \u001b[0mn_epochs\u001b[0m\u001b[0;34m)\u001b[0m\u001b[0;34m)\u001b[0m\u001b[0;34m\u001b[0m\u001b[0m\n\u001b[1;32m      6\u001b[0m             \u001b[0mnn\u001b[0m \u001b[0;34m=\u001b[0m \u001b[0mneural_net_mlp\u001b[0m\u001b[0;34m(\u001b[0m\u001b[0mX_train\u001b[0m\u001b[0;34m,\u001b[0m \u001b[0mY_train\u001b[0m\u001b[0;34m,\u001b[0m \u001b[0mn_hidden_nodes\u001b[0m \u001b[0;34m=\u001b[0m \u001b[0mhiddens\u001b[0m\u001b[0;34m,\u001b[0m \u001b[0mn_classes\u001b[0m \u001b[0;34m=\u001b[0m \u001b[0;36m10\u001b[0m\u001b[0;34m,\u001b[0m \u001b[0mlearning_rate\u001b[0m \u001b[0;34m=\u001b[0m \u001b[0malpha\u001b[0m\u001b[0;34m)\u001b[0m\u001b[0;34m\u001b[0m\u001b[0m\n\u001b[0;32m----> 7\u001b[0;31m             \u001b[0mtraining_cost\u001b[0m \u001b[0;34m=\u001b[0m \u001b[0mnn\u001b[0m\u001b[0;34m.\u001b[0m\u001b[0mtrain\u001b[0m\u001b[0;34m(\u001b[0m\u001b[0mn_epochs\u001b[0m \u001b[0;34m=\u001b[0m \u001b[0mn_epochs\u001b[0m\u001b[0;34m,\u001b[0m \u001b[0mn_prints\u001b[0m \u001b[0;34m=\u001b[0m \u001b[0;36m20\u001b[0m\u001b[0;34m,\u001b[0m \u001b[0mshowprint\u001b[0m \u001b[0;34m=\u001b[0m \u001b[0;36m0\u001b[0m\u001b[0;34m,\u001b[0m \u001b[0mshowplot\u001b[0m \u001b[0;34m=\u001b[0m \u001b[0;36m0\u001b[0m\u001b[0;34m)\u001b[0m\u001b[0;34m\u001b[0m\u001b[0m\n\u001b[0m\u001b[1;32m      8\u001b[0m             \u001b[0my_pred\u001b[0m\u001b[0;34m,\u001b[0m \u001b[0m_Z1\u001b[0m\u001b[0;34m,\u001b[0m \u001b[0m_A1\u001b[0m \u001b[0;34m=\u001b[0m \u001b[0mnn\u001b[0m\u001b[0;34m.\u001b[0m\u001b[0mfeed_forward\u001b[0m\u001b[0;34m(\u001b[0m\u001b[0mX_test\u001b[0m\u001b[0;34m)\u001b[0m\u001b[0;34m\u001b[0m\u001b[0m\n\u001b[1;32m      9\u001b[0m             \u001b[0mtest_cost\u001b[0m \u001b[0;34m=\u001b[0m \u001b[0mnn\u001b[0m\u001b[0;34m.\u001b[0m\u001b[0mloss_function\u001b[0m\u001b[0;34m(\u001b[0m\u001b[0mY_test\u001b[0m\u001b[0;34m,\u001b[0m \u001b[0my_pred\u001b[0m\u001b[0;34m)\u001b[0m\u001b[0;34m\u001b[0m\u001b[0m\n",
      "\u001b[0;32m<ipython-input-62-158031b723c3>\u001b[0m in \u001b[0;36mtrain\u001b[0;34m(self, n_epochs, n_prints, showprint, showplot)\u001b[0m\n\u001b[1;32m    152\u001b[0m             \u001b[0mdA1\u001b[0m \u001b[0;34m=\u001b[0m \u001b[0mnp\u001b[0m\u001b[0;34m.\u001b[0m\u001b[0mmatmul\u001b[0m\u001b[0;34m(\u001b[0m\u001b[0mself\u001b[0m\u001b[0;34m.\u001b[0m\u001b[0mWeights2\u001b[0m\u001b[0;34m.\u001b[0m\u001b[0mT\u001b[0m\u001b[0;34m,\u001b[0m \u001b[0mdZ2\u001b[0m\u001b[0;34m)\u001b[0m \u001b[0;31m# derivative of A1\u001b[0m\u001b[0;34m\u001b[0m\u001b[0m\n\u001b[1;32m    153\u001b[0m             \u001b[0mdZ1\u001b[0m \u001b[0;34m=\u001b[0m \u001b[0mdA1\u001b[0m \u001b[0;34m*\u001b[0m \u001b[0mself\u001b[0m\u001b[0;34m.\u001b[0m\u001b[0msigmoid_derivative\u001b[0m\u001b[0;34m(\u001b[0m\u001b[0mZ1\u001b[0m\u001b[0;34m)\u001b[0m \u001b[0;31m# derivative of Z1: derivative of A1 and sigmoid derivative of Z1\u001b[0m\u001b[0;34m\u001b[0m\u001b[0m\n\u001b[0;32m--> 154\u001b[0;31m             \u001b[0mdWeights1\u001b[0m\u001b[0;34m,\u001b[0m \u001b[0mdBiases1\u001b[0m \u001b[0;34m=\u001b[0m \u001b[0mself\u001b[0m\u001b[0;34m.\u001b[0m\u001b[0mgradients_WB\u001b[0m\u001b[0;34m(\u001b[0m\u001b[0mdZ1\u001b[0m\u001b[0;34m,\u001b[0m \u001b[0mself\u001b[0m\u001b[0;34m.\u001b[0m\u001b[0mX\u001b[0m\u001b[0;34m)\u001b[0m\u001b[0;34m\u001b[0m\u001b[0m\n\u001b[0m\u001b[1;32m    155\u001b[0m \u001b[0;34m\u001b[0m\u001b[0m\n\u001b[1;32m    156\u001b[0m             \u001b[0;31m# Update the weights and biases\u001b[0m\u001b[0;34m\u001b[0m\u001b[0;34m\u001b[0m\u001b[0m\n",
      "\u001b[0;32m<ipython-input-62-158031b723c3>\u001b[0m in \u001b[0;36mgradients_WB\u001b[0;34m(self, dZ, x)\u001b[0m\n\u001b[1;32m    115\u001b[0m         '''\n\u001b[1;32m    116\u001b[0m         \u001b[0mn_obs\u001b[0m \u001b[0;34m=\u001b[0m \u001b[0mself\u001b[0m\u001b[0;34m.\u001b[0m\u001b[0mX\u001b[0m\u001b[0;34m.\u001b[0m\u001b[0mshape\u001b[0m\u001b[0;34m[\u001b[0m\u001b[0;36m0\u001b[0m\u001b[0;34m]\u001b[0m\u001b[0;34m\u001b[0m\u001b[0m\n\u001b[0;32m--> 117\u001b[0;31m         \u001b[0mdWeights\u001b[0m \u001b[0;34m=\u001b[0m \u001b[0;34m(\u001b[0m\u001b[0;36m1.0\u001b[0m\u001b[0;34m/\u001b[0m\u001b[0mn_obs\u001b[0m\u001b[0;34m)\u001b[0m \u001b[0;34m*\u001b[0m \u001b[0mnp\u001b[0m\u001b[0;34m.\u001b[0m\u001b[0mmatmul\u001b[0m\u001b[0;34m(\u001b[0m\u001b[0mdZ\u001b[0m\u001b[0;34m,\u001b[0m \u001b[0mx\u001b[0m\u001b[0;34m.\u001b[0m\u001b[0mT\u001b[0m\u001b[0;34m)\u001b[0m\u001b[0;34m\u001b[0m\u001b[0m\n\u001b[0m\u001b[1;32m    118\u001b[0m         \u001b[0mdBiases\u001b[0m \u001b[0;34m=\u001b[0m \u001b[0;34m(\u001b[0m\u001b[0;36m1.0\u001b[0m\u001b[0;34m/\u001b[0m\u001b[0mn_obs\u001b[0m\u001b[0;34m)\u001b[0m \u001b[0;34m*\u001b[0m \u001b[0mnp\u001b[0m\u001b[0;34m.\u001b[0m\u001b[0msum\u001b[0m\u001b[0;34m(\u001b[0m\u001b[0mdZ\u001b[0m\u001b[0;34m,\u001b[0m \u001b[0maxis\u001b[0m\u001b[0;34m=\u001b[0m\u001b[0;36m1\u001b[0m\u001b[0;34m,\u001b[0m \u001b[0mkeepdims\u001b[0m\u001b[0;34m=\u001b[0m\u001b[0;32mTrue\u001b[0m\u001b[0;34m)\u001b[0m\u001b[0;34m\u001b[0m\u001b[0m\n\u001b[1;32m    119\u001b[0m         \u001b[0;32mreturn\u001b[0m \u001b[0mdWeights\u001b[0m\u001b[0;34m,\u001b[0m \u001b[0mdBiases\u001b[0m\u001b[0;34m\u001b[0m\u001b[0m\n",
      "\u001b[0;31mKeyboardInterrupt\u001b[0m: "
     ]
    }
   ],
   "source": [
    "model_results = []\n",
    "for hiddens in [15,64,100]:\n",
    "    for alpha in [0.1, 1, 10]:\n",
    "        for n_epochs in [1000,5000]:\n",
    "            print(\"Training an MLP with {} hidden nodes and learning rate of {}, for {} epochs\".format(hiddens, alpha, n_epochs))\n",
    "            nn = neural_net_mlp(X_train, Y_train, n_hidden_nodes = hiddens, n_classes = 10, learning_rate = alpha)\n",
    "            training_cost = nn.train(n_epochs = n_epochs, n_prints = 20, showprint = 0, showplot = 0)\n",
    "            y_pred, _Z1, _A1 = nn.feed_forward(X_test)\n",
    "            test_cost = nn.loss_function(Y_test, y_pred)\n",
    "            print(\"Training loss: {}, Test loss: {} - for MLP with {} hidden nodes, learning rate = {}, trained for {} epochs\".format(training_cost, test_cost, hiddens, alpha, n_epochs))\n",
    "            model_results.append([hiddens, alpha, n_epochs, training_cost, test_cost])\n"
   ]
  },
  {
   "cell_type": "markdown",
   "metadata": {},
   "source": [
    "^ \n",
    "\n",
    "*I Stopped the above process in the middle to improve parameters again\n",
    "The above process showed that loss was best the smaller the learning rate was (0.1) and the more epochs.\n",
    "That makes sense because the smaller the learning rate, the more sensitive the network is to find the best direction in the gradient to descend to and doesn't 'jump' over the local minima, so the cost should go down more smoothly and consistently, still if more slowly. Therefore, the more iterations (epochs) we have, the more time the NN has to callibrate its weights and biases and descend the gradient, to decrease the cost.\n",
    "\n",
    "Therefore, I'll explore more around that space."
   ]
  },
  {
   "cell_type": "code",
   "execution_count": null,
   "metadata": {
    "scrolled": false
   },
   "outputs": [
    {
     "name": "stdout",
     "output_type": "stream",
     "text": [
      "Training MLP with 15 hidden nodes and 0.01 learning rate, for 1000 epochs\n",
      "\t Training loss: 2100.2401974618147, Test loss: 716.3888629346984 - \n",
      "\t MLP with 15 hidden nodes, learning rate = 0.01, 1000 epochs \n",
      "\n",
      "\n",
      "Training MLP with 15 hidden nodes and 0.01 learning rate, for 5000 epochs\n",
      "\t Training loss: 1124.557277104484, Test loss: 431.56013769511776 - \n",
      "\t MLP with 15 hidden nodes, learning rate = 0.01, 5000 epochs \n",
      "\n",
      "\n",
      "Training MLP with 15 hidden nodes and 0.1 learning rate, for 1000 epochs\n",
      "\t Training loss: 888.2159500833876, Test loss: 372.96537013681314 - \n",
      "\t MLP with 15 hidden nodes, learning rate = 0.1, 1000 epochs \n",
      "\n",
      "\n",
      "Training MLP with 15 hidden nodes and 0.1 learning rate, for 5000 epochs\n",
      "\t Training loss: 396.4551560335651, Test loss: 288.79037963528236 - \n",
      "\t MLP with 15 hidden nodes, learning rate = 0.1, 5000 epochs \n",
      "\n",
      "\n",
      "Training MLP with 15 hidden nodes and 0.5 learning rate, for 1000 epochs\n",
      "\t Training loss: 1764.435705561902, Test loss: 684.5704487811058 - \n",
      "\t MLP with 15 hidden nodes, learning rate = 0.5, 1000 epochs \n",
      "\n",
      "\n",
      "Training MLP with 15 hidden nodes and 0.5 learning rate, for 5000 epochs\n",
      "\t Training loss: 726.7681813586308, Test loss: 430.9250154578911 - \n",
      "\t MLP with 15 hidden nodes, learning rate = 0.5, 5000 epochs \n",
      "\n",
      "\n",
      "Training MLP with 64 hidden nodes and 0.01 learning rate, for 1000 epochs\n",
      "\t Training loss: 1488.601434186049, Test loss: 540.8021522490143 - \n",
      "\t MLP with 64 hidden nodes, learning rate = 0.01, 1000 epochs \n",
      "\n",
      "\n",
      "Training MLP with 64 hidden nodes and 0.01 learning rate, for 5000 epochs\n",
      "\t Training loss: 726.3003994647091, Test loss: 325.3646720028156 - \n",
      "\t MLP with 64 hidden nodes, learning rate = 0.01, 5000 epochs \n",
      "\n",
      "\n",
      "Training MLP with 64 hidden nodes and 0.1 learning rate, for 1000 epochs\n",
      "\t Training loss: 488.5563655192794, Test loss: 266.8533588770629 - \n",
      "\t MLP with 64 hidden nodes, learning rate = 0.1, 1000 epochs \n",
      "\n",
      "\n",
      "Training MLP with 64 hidden nodes and 0.1 learning rate, for 5000 epochs\n",
      "\t Training loss: 87.60789859398511, Test loss: 209.7114567876196 - \n",
      "\t MLP with 64 hidden nodes, learning rate = 0.1, 5000 epochs \n",
      "\n",
      "\n",
      "Training MLP with 64 hidden nodes and 0.5 learning rate, for 1000 epochs\n",
      "\t Training loss: 919.9804297096879, Test loss: 425.6251111617231 - \n",
      "\t MLP with 64 hidden nodes, learning rate = 0.5, 1000 epochs \n",
      "\n",
      "\n",
      "Training MLP with 64 hidden nodes and 0.5 learning rate, for 5000 epochs\n",
      "\t Training loss: 502.19549271278015, Test loss: 356.13618718819714 - \n",
      "\t MLP with 64 hidden nodes, learning rate = 0.5, 5000 epochs \n",
      "\n",
      "\n",
      "Training MLP with 100 hidden nodes and 0.01 learning rate, for 1000 epochs\n",
      "\t Training loss: 1336.8607908483657, Test loss: 518.7837227048149 - \n",
      "\t MLP with 100 hidden nodes, learning rate = 0.01, 1000 epochs \n",
      "\n",
      "\n",
      "Training MLP with 100 hidden nodes and 0.01 learning rate, for 5000 epochs\n",
      "\t Training loss: 574.7920114750262, Test loss: 288.58150181011666 - \n",
      "\t MLP with 100 hidden nodes, learning rate = 0.01, 5000 epochs \n",
      "\n",
      "\n",
      "Training MLP with 100 hidden nodes and 0.1 learning rate, for 1000 epochs\n",
      "\t Training loss: 389.9886995405208, Test loss: 228.60809980569934 - \n",
      "\t MLP with 100 hidden nodes, learning rate = 0.1, 1000 epochs \n",
      "\n",
      "\n",
      "Training MLP with 100 hidden nodes and 0.1 learning rate, for 5000 epochs\n"
     ]
    }
   ],
   "source": [
    "# Storing results\n",
    "model_results = []\n",
    "y_preds_first_hundred = []\n",
    "for hiddens in [15,64,100]:\n",
    "    for alpha in [0.01, 0.1, 0.5]:\n",
    "        for n_epochs in [1000,5000]:\n",
    "            print(\"Training MLP with {} hidden nodes and {} learning rate, for {} epochs\".format(hiddens, alpha, n_epochs))\n",
    "            nn = neural_net_mlp(X_train, Y_train, n_hidden_nodes = hiddens, n_classes = 10, learning_rate = alpha)\n",
    "            training_cost = nn.train(n_epochs = n_epochs, n_prints = 20, showprint = 0, showplot = 0)\n",
    "            y_pred, _Z1, _A1 = nn.feed_forward(X_test)\n",
    "            test_cost = nn.loss_function(Y_test, y_pred)\n",
    "            print(\"\\t Training loss: {}, Test loss: {} - \\n\\t MLP with {} hidden nodes, learning rate = {}, {} epochs \\n\\n\".format(training_cost, test_cost, hiddens, alpha, n_epochs))\n",
    "            model_results.append([hiddens, alpha, n_epochs, training_cost, test_cost])\n",
    "            y_preds_first_hundred.append(y_pred[:,:100])\n",
    "            \n",
    "## Stopped this in the middle to optimize parameters again"
   ]
  }
 ],
 "metadata": {
  "kernelspec": {
   "display_name": "Python 3",
   "language": "python",
   "name": "python3"
  },
  "language_info": {
   "codemirror_mode": {
    "name": "ipython",
    "version": 3
   },
   "file_extension": ".py",
   "mimetype": "text/x-python",
   "name": "python",
   "nbconvert_exporter": "python",
   "pygments_lexer": "ipython3",
   "version": "3.5.5"
  }
 },
 "nbformat": 4,
 "nbformat_minor": 2
}
